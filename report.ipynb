{
 "cells": [
  {
   "cell_type": "markdown",
   "metadata": {},
   "source": [
    "# Capstone Project - The Battle of the Neighborhoods (Week 2 / Report)\n",
    "#### by melih canal\n",
    "#### 24.02.2021"
   ]
  },
  {
   "cell_type": "markdown",
   "metadata": {},
   "source": [
    "## INTRODUCTION"
   ]
  },
  {
   "cell_type": "markdown",
   "metadata": {},
   "source": [
    "\n",
    "\n",
    "<h4> In this project we tried to find the most intense locations where restaurants are intensively located. Specifically, this report will be targeted to investor who is already run  wholesale food company  and interested in opening an warehouse in Toronto, Canada. \n",
    "<h4> Since there are lots of restaurants in Toronto, we will divide the amount of restaurants according to postcode and we will give to our investor the most crowded with restaurants"
   ]
  },
  {
   "cell_type": "markdown",
   "metadata": {},
   "source": [
    "## DATA"
   ]
  },
  {
   "cell_type": "markdown",
   "metadata": {},
   "source": [
    "<h4>Based on definition of our problem, the main data that we will use is all existing restaurants in the neighborhood. We obtained the neccesary data by using Forsquare.\n",
    "<h4>We also need the full list of postcodes and their neighborhood in city of Toronto,Canada. Those datas has been imported from Wikipedia."
   ]
  },
  {
   "cell_type": "markdown",
   "metadata": {},
   "source": [
    "# METHODOLOGY"
   ]
  },
  {
   "cell_type": "markdown",
   "metadata": {},
   "source": [
    "<h4> We used the methodology of K-Means Clustering Algorithm. K-means clustering is a type of unsupervised learning, which is used when you have unlabeled data. The goal of this algorithm is to find groups in the data, with the number of groups represented by the variable K. The algorithm works iteratively to assign each data point to one of K groups based on the features that are provided. Data points are clustered based on feature similarity.\n",
    "<h4>Steps we took for the analysis:\n",
    "<ul>\n",
    "<li>Collected required data that contains of every restaurant within our lat and lng. \n",
    "<li>Explrored the 'restaurant density' across different areas of Toronto - we will use K- mean to identify a few promising areas close to center with low number of restaurants and their type.\n",
    "<li>We will take into consideration locations with restaurants in radius of 500 meters, </ul>\n"
   ]
  },
  {
   "cell_type": "markdown",
   "metadata": {},
   "source": [
    "### ANALYSIS"
   ]
  },
  {
   "cell_type": "markdown",
   "metadata": {},
   "source": [
    "<ul>\n",
    "    <li> Exploring data\n",
    "    <li> Data cleaning\n",
    "    <li> Combining different data source and sorting neighborhood based on Longitude and latitude\n",
    "    <li> Explore the Toronto's neighborhoods ( Identify the top 10 venues for each neighborhood.)\n",
    "    <li> Clustering(With an assumption of 5 clusters)"
   ]
  },
  {
   "cell_type": "markdown",
   "metadata": {},
   "source": [
    "## RESUTLS"
   ]
  },
  {
   "cell_type": "markdown",
   "metadata": {},
   "source": [
    "<h4> Based on our initial assumption of the cluster with maximum number of restaurants will have the best possibility to have a new restaurant due to the need in the area. Based on the resultant clusters it looks like Cluster 5 have higher number of resturants then rest of the clusters."
   ]
  },
  {
   "cell_type": "markdown",
   "metadata": {},
   "source": [
    "## CONCLUCION"
   ]
  },
  {
   "cell_type": "markdown",
   "metadata": {},
   "source": [
    "<h4> The areas will be given to investor according to \"Cluster 5\" as the most intense areas which company's target clients are mostly located.. Now, our investor will make his final decision according to availibilty of warehouse facilities, rent fees and other factorts.  "
   ]
  }
 ],
 "metadata": {
  "kernelspec": {
   "display_name": "Python 3",
   "language": "python",
   "name": "python3"
  },
  "language_info": {
   "codemirror_mode": {
    "name": "ipython",
    "version": 3
   },
   "file_extension": ".py",
   "mimetype": "text/x-python",
   "name": "python",
   "nbconvert_exporter": "python",
   "pygments_lexer": "ipython3",
   "version": "3.7.6"
  }
 },
 "nbformat": 4,
 "nbformat_minor": 4
}
