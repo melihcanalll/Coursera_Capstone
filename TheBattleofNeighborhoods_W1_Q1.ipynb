{
 "cells": [
  {
   "cell_type": "markdown",
   "metadata": {},
   "source": [
    "# The Battle of Neighborhoods (WEEK-1)\n",
    "<h4>CAPSTONE PROJECT FOR IBM DATA SCIENCE COURSE\n",
    "    by MELIH CANAL<h4>\n",
    "    \n"
   ]
  },
  {
   "cell_type": "markdown",
   "metadata": {},
   "source": [
    "## INTRODUCTION\n",
    "<h5>A friend of mine works for Food Company in Turkey. The company runs two kinds of operation. Those operations are divided as retail and wholesale. My friend's title on this organisation was \"Wholesale Manager.\" The company recently decided to improve their operations in overseas. After professional market researchments, they decided to open warehouse in Toronto and my friend was appointed as \"Wholesale Director\" in Toronto.\n",
    "He also knows my interest in Data Science, therefore, he asked my help."
   ]
  },
  {
   "cell_type": "markdown",
   "metadata": {},
   "source": [
    "## BUSINESS PROBLEMS\n",
    "\n",
    "<h5> He conveyed their requests. They have two main problems,<h5>\n",
    "    <ul>\n",
    "    <li>Although some of restaurants are chains and working with professional mentality, the majority of them are small or medium business and they do not have professional support for their potantional orders. Also, even if some of rastaurants are only working with advance booking, they still can not have certain ideas aobut customer's order. Due to that, it is hardly possible to predict about their orders. Restaurants can order anything and anytime, therefore, the location of their warehouse must be as close as possible the district where the restaurants are intensively located. </li><li>The wholesale business are being done with low profitability ratio and high costs. Therefore, the company would like to work with fixed expenses which are as low as possible, however, they do not want to compromise on customer satisfaction. </li><li>Although their potential clients are high probably located in central places, you can rarely find the warehouse facilities in central areas with low rent costs.</li>\n",
    "    <ul>"
   ]
  },
  {
   "cell_type": "markdown",
   "metadata": {},
   "source": [
    "## REQUIREMENTS\n",
    "<H5>Location of warehouse should fulfill these requirements:\n",
    "        <ul>\n",
    "            <li>The lowest cost for delivery</li>\n",
    "            <li>Quick delivery for customer satisfaction</li>\n",
    "            <li>In order to be able to increase the amount of clients, close distance to restaurants </li>\n",
    "            <li>Lower run costs</li>\n",
    "            <li>Increase business potention</li>"
   ]
  },
  {
   "cell_type": "markdown",
   "metadata": {},
   "source": [
    "## SOLUTION\n",
    "<H5>We will take part of solution is to discover the most popular places that restaurants in Toronto are located. Then, they have to contact estate agency to be able find out the availibility, meter and price comparison of warehouses which are close to given areas by our data analysis."
   ]
  },
  {
   "cell_type": "code",
   "execution_count": null,
   "metadata": {},
   "outputs": [],
   "source": []
  }
 ],
 "metadata": {
  "kernelspec": {
   "display_name": "Python 3",
   "language": "python",
   "name": "python3"
  },
  "language_info": {
   "codemirror_mode": {
    "name": "ipython",
    "version": 3
   },
   "file_extension": ".py",
   "mimetype": "text/x-python",
   "name": "python",
   "nbconvert_exporter": "python",
   "pygments_lexer": "ipython3",
   "version": "3.7.6"
  }
 },
 "nbformat": 4,
 "nbformat_minor": 4
}
